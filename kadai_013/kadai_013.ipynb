{
  "nbformat": 4,
  "nbformat_minor": 0,
  "metadata": {
    "colab": {
      "provenance": [],
      "toc_visible": true,
      "collapsed_sections": [
        "zmloX_-Y3X1e",
        "8FDv4zHI3bSl"
      ]
    },
    "kernelspec": {
      "name": "python3",
      "display_name": "Python 3"
    },
    "language_info": {
      "name": "python"
    }
  },
  "cells": [
    {
      "cell_type": "markdown",
      "source": [
        "# 新しいセクション"
      ],
      "metadata": {
        "id": "g1R3LxWyqXZm"
      }
    },
    {
      "cell_type": "markdown",
      "source": [
        "# 新しいセクション"
      ],
      "metadata": {
        "id": "zmloX_-Y3X1e"
      }
    },
    {
      "cell_type": "code",
      "source": [
        "def add_two_arguments(price, price1):\n",
        "    total = price + (price*price1)\n",
        "    return total\n",
        "add_two_arguments(1000,0.1)"
      ],
      "metadata": {
        "colab": {
          "base_uri": "https://localhost:8080/"
        },
        "id": "PMFSlBktv4Gy",
        "outputId": "b8b55f4c-5531-4846-e1f6-bcc3e410b639"
      },
      "execution_count": null,
      "outputs": [
        {
          "output_type": "stream",
          "name": "stdout",
          "text": [
            "1100.0円\n"
          ]
        }
      ]
    },
    {
      "cell_type": "markdown",
      "source": [
        "# 新しいセクション"
      ],
      "metadata": {
        "id": "8FDv4zHI3bSl"
      }
    },
    {
      "cell_type": "code",
      "source": [
        "def show_user_name():\n",
        "    user_name = \"侍太郎\"\n",
        "    print(user_name)\n",
        "show_user_name()"
      ],
      "metadata": {
        "colab": {
          "base_uri": "https://localhost:8080/"
        },
        "id": "TrrUtmj93bvM",
        "outputId": "22fc76d1-db48-48c4-9f42-90b1fa138e8b"
      },
      "execution_count": 1,
      "outputs": [
        {
          "output_type": "stream",
          "name": "stdout",
          "text": [
            "侍太郎\n"
          ]
        }
      ]
    },
    {
      "cell_type": "code",
      "source": [
        "class Product:\n",
        "    def __init__(self):\n",
        "    #属性を定義する\n",
        "\n",
        "        self.name = \"\"\n",
        "\n",
        "shampoo = Product()\n",
        "\n",
        "#属性にアクセスし、値を代入する\n",
        "shampoo.name = \"シャンプー\"\n",
        "#属性にアクセスし、値を出力する\n",
        "print(shampoo.name)\n"
      ],
      "metadata": {
        "colab": {
          "base_uri": "https://localhost:8080/"
        },
        "id": "OMSTpGxK8uRA",
        "outputId": "eacd6e46-5c4c-4d38-d8fd-abcb4499f60e"
      },
      "execution_count": 2,
      "outputs": [
        {
          "output_type": "stream",
          "name": "stdout",
          "text": [
            "シャンプー\n"
          ]
        }
      ]
    },
    {
      "cell_type": "code",
      "source": [
        "class Product:\n",
        "    def __init__(self):\n",
        "        self.name = \"\"\n",
        "    def set_name(self,name):\n",
        "        self.name = name"
      ],
      "metadata": {
        "id": "YuCSnvoVB86r"
      },
      "execution_count": 3,
      "outputs": []
    },
    {
      "cell_type": "markdown",
      "source": [
        "関数を使いこなそう\n"
      ],
      "metadata": {
        "id": "BYL8Kc4Waemw"
      }
    },
    {
      "cell_type": "code",
      "source": [
        "def add_two_arguments(price, price1):\n",
        "    total = price + (price*price1)\n",
        "    return total\n",
        "add_two_arguments(1000,0.1)"
      ],
      "metadata": {
        "colab": {
          "base_uri": "https://localhost:8080/"
        },
        "id": "UxApJ0iWafQf",
        "outputId": "0777e458-0d18-4756-a32b-10cffc11fae9"
      },
      "execution_count": 4,
      "outputs": [
        {
          "output_type": "execute_result",
          "data": {
            "text/plain": [
              "1100.0"
            ]
          },
          "metadata": {},
          "execution_count": 4
        }
      ]
    },
    {
      "cell_type": "markdown",
      "source": [
        "# 関数を使いこなそう\n"
      ],
      "metadata": {
        "id": "a4RMwQxXaq6p"
      }
    },
    {
      "cell_type": "code",
      "source": [
        "def add_two_arguments(price, price1):\n",
        "    total = price + (price*price1)\n",
        "    return total\n",
        "add_two_arguments(1000,0.1)"
      ],
      "metadata": {
        "id": "Gjrq2ogparUX"
      },
      "execution_count": null,
      "outputs": []
    }
  ]
}