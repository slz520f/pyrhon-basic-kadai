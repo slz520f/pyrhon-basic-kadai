{
  "nbformat": 4,
  "nbformat_minor": 0,
  "metadata": {
    "colab": {
      "provenance": [],
      "toc_visible": true
    },
    "kernelspec": {
      "name": "python3",
      "display_name": "Python 3"
    },
    "language_info": {
      "name": "python"
    }
  },
  "cells": [
    {
      "cell_type": "markdown",
      "source": [
        "# 新しいセクション"
      ],
      "metadata": {
        "id": "g1R3LxWyqXZm"
      }
    },
    {
      "cell_type": "code",
      "source": [
        "def add_two_arguments(price, price1):\n",
        "    total = price + (price*price1)\n",
        "    print(f\"{total}円\")\n",
        "add_two_arguments(1000,0.1)"
      ],
      "metadata": {
        "colab": {
          "base_uri": "https://localhost:8080/"
        },
        "id": "PMFSlBktv4Gy",
        "outputId": "b8b55f4c-5531-4846-e1f6-bcc3e410b639"
      },
      "execution_count": 42,
      "outputs": [
        {
          "output_type": "stream",
          "name": "stdout",
          "text": [
            "1100.0円\n"
          ]
        }
      ]
    }
  ]
}