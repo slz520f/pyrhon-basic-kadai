{
  "nbformat": 4,
  "nbformat_minor": 0,
  "metadata": {
    "colab": {
      "provenance": []
    },
    "kernelspec": {
      "name": "python3",
      "display_name": "Python 3"
    },
    "language_info": {
      "name": "python"
    }
  },
  "cells": [
    {
      "cell_type": "code",
      "execution_count": null,
      "metadata": {
        "id": "r0v73pTLgiTN"
      },
      "outputs": [],
      "source": [
        "# グローバル変数の定義\n",
        "price1 = 100\n",
        "price2 = 200\n",
        "tax = 1.1\n",
        "\n",
        "# total関数の定義\n",
        "def total():\n",
        "    # 関数内での計算\n",
        "    return (price1 + price2) * tax\n",
        "\n",
        "# total関数の実行と結果の出力\n",
        "print(total())"
      ]
    },
    {
      "cell_type": "code",
      "source": [],
      "metadata": {
        "id": "tDcCX2T8gmJX"
      },
      "execution_count": null,
      "outputs": []
    }
  ]
}