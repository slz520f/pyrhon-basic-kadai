{
  "nbformat": 4,
  "nbformat_minor": 0,
  "metadata": {
    "colab": {
      "provenance": [],
      "toc_visible": true
    },
    "kernelspec": {
      "name": "python3",
      "display_name": "Python 3"
    },
    "language_info": {
      "name": "python"
    }
  },
  "cells": [
    {
      "cell_type": "code",
      "source": [
        "top_length = 15\n",
        "bottom_length = 20\n",
        "height = 5\n",
        "area = (top_length+bottom_length)*height/2\n",
        "print(str(area)+\"c㎡\")"
      ],
      "metadata": {
        "colab": {
          "base_uri": "https://localhost:8080/"
        },
        "id": "dYshksIdWrZV",
        "outputId": "ea5b4037-d318-4958-9410-31e990748542"
      },
      "execution_count": null,
      "outputs": [
        {
          "output_type": "stream",
          "name": "stdout",
          "text": [
            "87.5c㎡\n"
          ]
        }
      ]
    },
    {
      "cell_type": "code",
      "source": [
        "# 変数の設定\n",
        "top_length = 15 #　上辺\n",
        "bottom_length = 20 #　下辺\n",
        "heigth = 2 # 高さ\n",
        "\n",
        "# 台形の面積を計算\n",
        "area = (top_length +bottom_length) * heigth / 2\n",
        "\n",
        "# 結果の出力\n",
        "print(str(area)+\"c㎡\")"
      ],
      "metadata": {
        "colab": {
          "base_uri": "https://localhost:8080/"
        },
        "id": "sNNxEEj5bMuA",
        "outputId": "8638643c-0cac-4f00-eb9b-2ff1baaca816"
      },
      "execution_count": null,
      "outputs": [
        {
          "output_type": "stream",
          "name": "stdout",
          "text": [
            "35.0c㎡\n"
          ]
        }
      ]
    },
    {
      "cell_type": "markdown",
      "source": [
        "# 新しいセクション"
      ],
      "metadata": {
        "id": "sG80lw7Rc09v"
      }
    },
    {
      "cell_type": "code",
      "source": [],
      "metadata": {
        "id": "x4icXM2Zc2pP"
      },
      "execution_count": null,
      "outputs": []
    },
    {
      "cell_type": "code",
      "source": [
        "user_names = [\"侍太郎\", \"侍一郎\", \"侍二郎\", \"侍三郎\", \"侍四郎\"]\n",
        "\n",
        "# 2番目の要素である「侍一郎」という文字列だけを取り出して表示する\n",
        "user_names[1] = \"侍花子\"\n",
        "user_names.append(\"侍五郎\")\n",
        "user_names.pop(2)\n",
        "\n",
        "print(user_names)"
      ],
      "metadata": {
        "colab": {
          "base_uri": "https://localhost:8080/"
        },
        "id": "E3UrN8zEgUs8",
        "outputId": "9a91a316-6d11-499c-a22a-57ea03c5899c"
      },
      "execution_count": null,
      "outputs": [
        {
          "output_type": "stream",
          "name": "stdout",
          "text": [
            "['侍太郎', '侍花子', '侍三郎', '侍四郎', '侍五郎']\n"
          ]
        }
      ]
    },
    {
      "cell_type": "code",
      "source": [
        "user_names = [\"侍太郎\", \"侍一郎\", \"侍二郎\", \"侍三郎\", \"侍四郎\"]\n",
        "\n",
        "print(user_names[1])\n",
        "\n",
        "user_names[1] = \"侍花子\"\n",
        "print(user_names)\n",
        "\n",
        "user_names.append(\"侍五郎\")\n",
        "print(user_names)\n",
        "\n",
        "user_names.pop(2)\n",
        "print(user_names)"
      ],
      "metadata": {
        "colab": {
          "base_uri": "https://localhost:8080/"
        },
        "id": "NoahxXCNmlF9",
        "outputId": "e3aa2458-7274-428c-a3d2-bfd485b55a08"
      },
      "execution_count": null,
      "outputs": [
        {
          "output_type": "stream",
          "name": "stdout",
          "text": [
            "侍一郎\n",
            "['侍太郎', '侍花子', '侍二郎', '侍三郎', '侍四郎']\n",
            "['侍太郎', '侍花子', '侍二郎', '侍三郎', '侍四郎', '侍五郎']\n",
            "['侍太郎', '侍花子', '侍三郎', '侍四郎', '侍五郎']\n"
          ]
        }
      ]
    },
    {
      "cell_type": "code",
      "source": [
        "country_names = (\"日本\", \"アメリカ\", \"イギリス\", \"フランス\")\n",
        "\n",
        "# 3番目の要素を取り出す\n",
        "print(country_names[2])\n",
        "\n",
        "# すべての要素を取り出す\n",
        "print(country_names)"
      ],
      "metadata": {
        "colab": {
          "base_uri": "https://localhost:8080/"
        },
        "id": "iAg5EGKt8WAa",
        "outputId": "3fce6583-828a-43f8-9137-fbd4de313763"
      },
      "execution_count": null,
      "outputs": [
        {
          "output_type": "stream",
          "name": "stdout",
          "text": [
            "イギリス\n",
            "('日本', 'アメリカ', 'イギリス', 'フランス')\n"
          ]
        }
      ]
    },
    {
      "cell_type": "code",
      "source": [
        "country_names = {\"日本\", \"アメリカ\", \"イギリス\", \"フランス\"}\n",
        "\n",
        "# セット全体を表示\n",
        "print(country_names\n",
        "      )\n",
        "\n"
      ],
      "metadata": {
        "colab": {
          "base_uri": "https://localhost:8080/"
        },
        "id": "JOQuDlks9-ut",
        "outputId": "61fcdafa-70a0-4425-a152-5e0075ab3da8"
      },
      "execution_count": null,
      "outputs": [
        {
          "output_type": "stream",
          "name": "stdout",
          "text": [
            "{'イギリス', 'アメリカ', 'フランス', '日本'}\n"
          ]
        }
      ]
    },
    {
      "cell_type": "code",
      "source": [
        "prime_names = {2, 5, 2, 7, 3, 5, 5}\n",
        "print(prime_names)"
      ],
      "metadata": {
        "colab": {
          "base_uri": "https://localhost:8080/"
        },
        "id": "f8bWAhuc-aZu",
        "outputId": "54b06104-ee0a-4b1c-9d8a-29efa208fcc9"
      },
      "execution_count": null,
      "outputs": [
        {
          "output_type": "stream",
          "name": "stdout",
          "text": [
            "{2, 3, 5, 7}\n"
          ]
        }
      ]
    },
    {
      "cell_type": "code",
      "source": [
        "prime_numbers = {2, 3, 5, 7}\n",
        "\n",
        "# セット全体を表示\n",
        "print (prime_names)\n",
        "\n",
        "prime_numbers.add(11\n",
        "                  )\n",
        "print(prime_numbers)\n",
        "\n",
        "prime_numbers.remove(3)\n",
        "print(prime_numbers)"
      ],
      "metadata": {
        "colab": {
          "base_uri": "https://localhost:8080/"
        },
        "id": "tjnvI6f__PP3",
        "outputId": "b27db485-c70d-44b9-e772-a6b98ba9da31"
      },
      "execution_count": null,
      "outputs": [
        {
          "output_type": "stream",
          "name": "stdout",
          "text": [
            "{2, 3, 5, 7}\n",
            "{2, 3, 5, 7, 11}\n",
            "{2, 5, 7, 11}\n"
          ]
        }
      ]
    },
    {
      "cell_type": "code",
      "source": [
        "sports = {1: \"サッカー\", 2: \"野球\", 3: \"バスケット\"}\n",
        "sports[2] = \"バドミントン\"\n",
        "sports[4] = \"水泳\"\n",
        "print(sports)"
      ],
      "metadata": {
        "colab": {
          "base_uri": "https://localhost:8080/"
        },
        "id": "Lu9RZCflEjjg",
        "outputId": "dc938161-3ea1-4ad0-a9b3-464a22c5f996"
      },
      "execution_count": null,
      "outputs": [
        {
          "output_type": "stream",
          "name": "stdout",
          "text": [
            "{1: 'サッカー', 2: 'バドミントン', 3: 'バスケット', 4: '水泳'}\n"
          ]
        }
      ]
    },
    {
      "cell_type": "code",
      "source": [
        "stationery_prices = {\"鉛筆\": 70, \"ボールペン\": 120, \"シャープペンシル\": 150, \"消しゴム\": 90}\n",
        "stationery_prices.pop(\"シャープペンシル\")\n",
        "print(stationery_prices)"
      ],
      "metadata": {
        "colab": {
          "base_uri": "https://localhost:8080/"
        },
        "id": "WmRIww3HFaIg",
        "outputId": "c7b44467-1033-4bc5-f27a-cfa51767297d"
      },
      "execution_count": null,
      "outputs": [
        {
          "output_type": "stream",
          "name": "stdout",
          "text": [
            "{'鉛筆': 70, 'ボールペン': 120, '消しゴム': 90}\n"
          ]
        }
      ]
    },
    {
      "cell_type": "code",
      "source": [
        "# 連想配列を作成\n",
        "personal_data = {\"name\": \"侍太郎\", \"age\": 36, \"gender\": \"男性\"}\n",
        "\n",
        "#　キー「name」の値を表示\n",
        "print(personal_data[\"name\"])\n",
        "\n",
        "#連想配列全体を表示\n",
        "print(personal_data)\n",
        "\n",
        "personal_data[\"age\"] = 37\n",
        "personal_data[\"address\"] = \"東京都\"\n",
        "print(personal_data)"
      ],
      "metadata": {
        "colab": {
          "base_uri": "https://localhost:8080/"
        },
        "id": "iTGuprqGF98F",
        "outputId": "240694e2-7886-4ed1-ccc1-e3a6560843f2"
      },
      "execution_count": null,
      "outputs": [
        {
          "output_type": "stream",
          "name": "stdout",
          "text": [
            "侍太郎\n",
            "{'name': '侍太郎', 'age': 36, 'gender': '男性'}\n",
            "{'name': '侍太郎', 'age': 37, 'gender': '男性', 'address': '東京都'}\n"
          ]
        }
      ]
    },
    {
      "cell_type": "markdown",
      "source": [
        "# 新しいセクション"
      ],
      "metadata": {
        "id": "vuH5QXfvcnKR"
      }
    },
    {
      "cell_type": "code",
      "source": [
        "var = 10\n",
        "if var % 3 == 0 and var % 5 == 0:\n",
        "    print(\"FizzBuzz\")\n",
        "elif var % 3 == 0:\n",
        "    print(\"Fizz\")\n",
        "elif var % 5 == 0:\n",
        "    print(\"Buzz\")\n",
        "else:\n",
        "    print(var)\n"
      ],
      "metadata": {
        "colab": {
          "base_uri": "https://localhost:8080/"
        },
        "id": "pOi7w5ItcnjC",
        "outputId": "2f7d96c8-ef62-4f32-e839-aade2c423d7b"
      },
      "execution_count": null,
      "outputs": [
        {
          "output_type": "stream",
          "name": "stdout",
          "text": [
            "Buzz\n"
          ]
        }
      ]
    },
    {
      "cell_type": "code",
      "source": [
        "for i in range(1,11):\n",
        "    print(i)"
      ],
      "metadata": {
        "colab": {
          "base_uri": "https://localhost:8080/"
        },
        "id": "b3CGnShCgFJA",
        "outputId": "95dcef86-0c94-4685-953e-c07079effb05"
      },
      "execution_count": null,
      "outputs": [
        {
          "output_type": "stream",
          "name": "stdout",
          "text": [
            "1\n",
            "2\n",
            "3\n",
            "4\n",
            "5\n",
            "6\n",
            "7\n",
            "8\n",
            "9\n",
            "10\n"
          ]
        }
      ]
    },
    {
      "cell_type": "code",
      "source": [
        "import random\n",
        "for i in range(1,11):\n",
        "    num = random.randint(1,20)\n",
        "    print(f\"{i}回目の結果は{num}です。\")\n",
        "    if num == 20:\n",
        "        print(\"20が出たので繰り返し処理を強制終了します。\")\n",
        "        break"
      ],
      "metadata": {
        "colab": {
          "base_uri": "https://localhost:8080/"
        },
        "id": "6JH-Gi9plNV4",
        "outputId": "c49b6b25-c74f-4997-9a3d-f64f12ea6aa6"
      },
      "execution_count": null,
      "outputs": [
        {
          "output_type": "stream",
          "name": "stdout",
          "text": [
            "1回目の結果は11です。\n",
            "2回目の結果は11です。\n",
            "3回目の結果は10です。\n",
            "4回目の結果は2です。\n",
            "5回目の結果は15です。\n",
            "6回目の結果は2です。\n",
            "7回目の結果は3です。\n",
            "8回目の結果は20です。\n",
            "20が出たので繰り返し処理を強制終了します。\n"
          ]
        }
      ]
    },
    {
      "cell_type": "code",
      "source": [
        "for i in range(1,11):\n",
        "    if i % 2 == 1:\n",
        "        continue\n",
        "    print(i)"
      ],
      "metadata": {
        "colab": {
          "base_uri": "https://localhost:8080/"
        },
        "id": "WPnmsInIpLqv",
        "outputId": "cf530780-7c56-4a7b-a541-129d9169f20c"
      },
      "execution_count": null,
      "outputs": [
        {
          "output_type": "stream",
          "name": "stdout",
          "text": [
            "2\n",
            "4\n",
            "6\n",
            "8\n",
            "10\n"
          ]
        }
      ]
    },
    {
      "cell_type": "code",
      "source": [
        "# ランダムな整数を利用するため、記述が必要です。\n",
        "import random\n",
        "\n",
        "# 変数numに0～4までのランダムな整数を代入する。\n",
        "num = random.randint(0,4)\n",
        "\n",
        "# 変数numの最初の値を出力する（確認用）\n",
        "print(f\"最初の値は{num}です。\")\n",
        "\n",
        "#　変数numの値は0以外である間、変数numの値を出力し続ける\n",
        "while num != 0:\n",
        "    # 変数numに0～4までのランダムな整数を代入する。\n",
        "    num = random.randint(0,4)\n",
        "\n",
        "    # 次の条件式で比較される、変数numの現在の値を出力する\n",
        "    print(f\"現在の値は{num}です。\")"
      ],
      "metadata": {
        "colab": {
          "base_uri": "https://localhost:8080/"
        },
        "id": "dKjWzJjxcGtA",
        "outputId": "3e43f9d0-43fa-495e-88bf-b718c07d8fb2"
      },
      "execution_count": null,
      "outputs": [
        {
          "output_type": "stream",
          "name": "stdout",
          "text": [
            "最初の値は3です。\n",
            "現在の値は1です。\n",
            "現在の値は2です。\n",
            "現在の値は1です。\n",
            "現在の値は0です。\n"
          ]
        }
      ]
    },
    {
      "cell_type": "code",
      "source": [
        "import random\n",
        "num = random.randint(0,4)\n",
        "i = 1\n",
        "print(f\"最初の値は{num}です。\")\n",
        "while num != 0:\n",
        "    num = random.randint(0,4)\n",
        "    if i == 5:\n",
        "\n",
        "        print(\"5回目なので繰り返し処理を強制終了します。\")\n",
        "        break\n",
        "    print(f\"現在の値は{num}です。\")\n",
        "    i = i + 1"
      ],
      "metadata": {
        "colab": {
          "base_uri": "https://localhost:8080/"
        },
        "id": "iYFWVEgbfLSe",
        "outputId": "ebfcdd2b-a71a-4b9a-963d-598fde306c8a"
      },
      "execution_count": null,
      "outputs": [
        {
          "output_type": "stream",
          "name": "stdout",
          "text": [
            "最初の値は4です。\n",
            "現在の値は4です。\n",
            "現在の値は4です。\n",
            "現在の値は3です。\n",
            "現在の値は0です。\n"
          ]
        }
      ]
    },
    {
      "cell_type": "code",
      "source": [
        "import random\n",
        "sum = 0\n",
        "while sum < 20:\n",
        "    num = random.randint(1,10)\n",
        "    print(f\"{num}が出ました。\")\n",
        "    if num % 2 == 0:\n",
        "        print(\"偶数なので加算しません。\")\n",
        "        continue\n",
        "    sum = sum + num\n",
        "    print(f\"現在の合計は{sum}です。\")"
      ],
      "metadata": {
        "colab": {
          "base_uri": "https://localhost:8080/"
        },
        "id": "YjQPTcXdijDZ",
        "outputId": "f89bdf99-ade3-4444-ea2c-424e1cd7c200"
      },
      "execution_count": null,
      "outputs": [
        {
          "output_type": "stream",
          "name": "stdout",
          "text": [
            "1が出ました。\n",
            "現在の合計は1です。\n",
            "1が出ました。\n",
            "現在の合計は2です。\n",
            "7が出ました。\n",
            "現在の合計は9です。\n",
            "4が出ました。\n",
            "偶数なので加算しません。\n",
            "6が出ました。\n",
            "偶数なので加算しません。\n",
            "9が出ました。\n",
            "現在の合計は18です。\n",
            "3が出ました。\n",
            "現在の合計は21です。\n"
          ]
        }
      ]
    },
    {
      "cell_type": "code",
      "source": [
        "user_names = [\"侍太郎\", \"侍一郎\", \"侍二郎\", \"侍三郎\", \"侍四郎\"]\n",
        "for user_name in user_names:\n",
        "    print(user_name)"
      ],
      "metadata": {
        "colab": {
          "base_uri": "https://localhost:8080/"
        },
        "id": "CAP9bnfl2TMr",
        "outputId": "3e0bf156-22ff-4054-de3c-e376d9ca1393"
      },
      "execution_count": 1,
      "outputs": [
        {
          "output_type": "stream",
          "name": "stdout",
          "text": [
            "侍太郎\n",
            "侍一郎\n",
            "侍二郎\n",
            "侍三郎\n",
            "侍四郎\n"
          ]
        }
      ]
    },
    {
      "cell_type": "code",
      "source": [
        "personal_data = {\"name\": \"侍太郎\", \"age\": 36, \"gender\": \"男性\"}\n",
        "for key, value in personal_data.items():\n",
        "    print(f\"{key}は{value}です。\")"
      ],
      "metadata": {
        "colab": {
          "base_uri": "https://localhost:8080/"
        },
        "id": "rt9tnQ8x3ydc",
        "outputId": "08b4f698-51a1-468f-b8db-de751b60f829"
      },
      "execution_count": 2,
      "outputs": [
        {
          "output_type": "stream",
          "name": "stdout",
          "text": [
            "nameは侍太郎です。\n",
            "ageは36です。\n",
            "genderは男性です。\n"
          ]
        }
      ]
    },
    {
      "cell_type": "code",
      "source": [
        "personal_data = {\"name\": \"侍太郎\", \"age\": 36, \"gender\": \"男性\"}\n",
        "for value in personal_data.values():\n",
        "    print(value)\n"
      ],
      "metadata": {
        "colab": {
          "base_uri": "https://localhost:8080/"
        },
        "id": "5ml_Jwtt4s6M",
        "outputId": "4d24d594-01e2-457b-b000-fa5135ca2c01"
      },
      "execution_count": 4,
      "outputs": [
        {
          "output_type": "stream",
          "name": "stdout",
          "text": [
            "侍太郎\n",
            "36\n",
            "男性\n"
          ]
        }
      ]
    },
    {
      "cell_type": "code",
      "source": [
        "user_names = [\"侍太郎\", \"侍一郎\", \"侍二郎\", \"侍三郎\", \"侍四郎\"]\n",
        "for index,value in enumerate(user_names):\n",
        "    print(f\"{index} : {value}\")"
      ],
      "metadata": {
        "colab": {
          "base_uri": "https://localhost:8080/"
        },
        "id": "9EF1wJuY5L0w",
        "outputId": "3273c855-24cb-4a58-e949-697dbccf2a64"
      },
      "execution_count": 5,
      "outputs": [
        {
          "output_type": "stream",
          "name": "stdout",
          "text": [
            "0 : 侍太郎\n",
            "1 : 侍一郎\n",
            "2 : 侍二郎\n",
            "3 : 侍三郎\n",
            "4 : 侍四郎\n"
          ]
        }
      ]
    },
    {
      "cell_type": "code",
      "source": [
        "user_names = [\"侍太郎\", \"侍一郎\", \"侍二郎\", \"侍三郎\", \"侍四郎\"]\n",
        "target = \"侍二郎\"\n",
        "for user_name in user_names:\n",
        "    print(user_name)\n",
        "    if(user_name == target):\n",
        "        print(f\"{target}さんが見つかったので、繰り返し処理を強制終了します。\")\n",
        "        break"
      ],
      "metadata": {
        "colab": {
          "base_uri": "https://localhost:8080/"
        },
        "id": "Xny-tPm26AYk",
        "outputId": "db9c6fb8-fdbd-4203-8343-98a96cf521e5"
      },
      "execution_count": 6,
      "outputs": [
        {
          "output_type": "stream",
          "name": "stdout",
          "text": [
            "侍太郎\n",
            "侍一郎\n",
            "侍二郎\n",
            "侍二郎さんが見つかったので、繰り返し処理を強制終了します。\n"
          ]
        }
      ]
    },
    {
      "cell_type": "code",
      "source": [
        "score = {\"国語\": 80, \"数学\": 55, \"理科\": 70, \"社会\": 85, \"英語\": 60}\n",
        "print(\"合格した科目は以下のとおりです。\")\n",
        "for key, value in score.items():\n",
        "    if (value < 70):\n",
        "        continue\n",
        "    print(f\"{key}: {value}点\")"
      ],
      "metadata": {
        "colab": {
          "base_uri": "https://localhost:8080/"
        },
        "id": "U4cxRUAH67MG",
        "outputId": "c1b298f2-b475-4583-85a7-0d6a6ee1f578"
      },
      "execution_count": 8,
      "outputs": [
        {
          "output_type": "stream",
          "name": "stdout",
          "text": [
            "合格した科目は以下のとおりです。\n",
            "国語: 80点\n",
            "理科: 70点\n",
            "社会: 85点\n"
          ]
        }
      ]
    },
    {
      "cell_type": "code",
      "source": [
        "# 朝のあいさつを出力する関数を作成する\n",
        "def say_goodbye_morning():\n",
        "    print(\"おはようございます！\")\n",
        "    print(\"昨日はよく眠れましたか？\")\n",
        "    print(\"今日も一日頑張りましょう！\")\n",
        "def say_good_evening():\n",
        "    print(\"こんばんは！\")\n",
        "    print(\"今日も一日お疲れさまでした。\")\n",
        "say_goodbye_morning()\n",
        "say_good_evening()"
      ],
      "metadata": {
        "colab": {
          "base_uri": "https://localhost:8080/"
        },
        "id": "sAJr-iK38dwv",
        "outputId": "72fde887-1b47-4e6b-ec31-dee5bf85f9bb"
      },
      "execution_count": 11,
      "outputs": [
        {
          "output_type": "stream",
          "name": "stdout",
          "text": [
            "おはようございます！\n",
            "昨日はよく眠れましたか？\n",
            "今日も一日頑張りましょう！\n",
            "こんばんは！\n",
            "今日も一日お疲れさまでした。\n"
          ]
        }
      ]
    },
    {
      "cell_type": "code",
      "source": [
        "def calculate_total(price):\n",
        "    total = price + 500\n",
        "    print(f\"{total}円\")\n",
        "calculate_total(1200)"
      ],
      "metadata": {
        "colab": {
          "base_uri": "https://localhost:8080/"
        },
        "id": "_MBFSwMyBxdT",
        "outputId": "2ba47084-17e1-4e80-a772-e22af7ec3a7f"
      },
      "execution_count": 12,
      "outputs": [
        {
          "output_type": "stream",
          "name": "stdout",
          "text": [
            "1700円\n"
          ]
        }
      ]
    },
    {
      "cell_type": "code",
      "source": [
        "def add_two_arguments(price,shipping_fee):\n",
        "    # 与えられた引数priceと引数shipping_feeを加算し、変数totalに代入する\n",
        "    total = price + shipping_fee\n",
        "    # 変数$totalの値を出力する\n",
        "    print(f\"{total}円\")\n",
        "# 関数を呼び出し、引数として購入金額と送料を渡す\n",
        "add_two_arguments(1200,500)"
      ],
      "metadata": {
        "colab": {
          "base_uri": "https://localhost:8080/"
        },
        "id": "vDR22enSCldp",
        "outputId": "9deec535-e740-416a-95b5-4f09cb83622f"
      },
      "execution_count": 13,
      "outputs": [
        {
          "output_type": "stream",
          "name": "stdout",
          "text": [
            "1700円\n"
          ]
        }
      ]
    },
    {
      "cell_type": "code",
      "source": [
        "# 購入済かどうかを判定する変数\n",
        "purchased = True\n",
        "# 戻り値を返す関数を定義する\n",
        "def is_purchased():\n",
        "    if (purchased):\n",
        "        return True\n",
        "    else:\n",
        "        return False\n",
        "# 戻り値を返す関数を条件式に使う(Trueであれば処理が実行される)\n",
        "if (is_purchased()):\n",
        "    print(\"商品は購入済みです。\")"
      ],
      "metadata": {
        "colab": {
          "base_uri": "https://localhost:8080/"
        },
        "id": "j1AzDB9PHy2R",
        "outputId": "41fe2c22-5f69-49a5-9907-635d0aa410d2"
      },
      "execution_count": 14,
      "outputs": [
        {
          "output_type": "stream",
          "name": "stdout",
          "text": [
            "商品は購入済みです。\n"
          ]
        }
      ]
    },
    {
      "cell_type": "markdown",
      "source": [
        "# 新しいセクション"
      ],
      "metadata": {
        "id": "g1R3LxWyqXZm"
      }
    },
    {
      "cell_type": "code",
      "source": [
        "def add_two_arguments(price, price1):\n",
        "    total = price + (price*price1)\n",
        "    print(f\"{total}円\")\n",
        "add_two_arguments(1000,0.1)"
      ],
      "metadata": {
        "colab": {
          "base_uri": "https://localhost:8080/"
        },
        "id": "PMFSlBktv4Gy",
        "outputId": "b8b55f4c-5531-4846-e1f6-bcc3e410b639"
      },
      "execution_count": 42,
      "outputs": [
        {
          "output_type": "stream",
          "name": "stdout",
          "text": [
            "1100.0円\n"
          ]
        }
      ]
    }
  ]
}